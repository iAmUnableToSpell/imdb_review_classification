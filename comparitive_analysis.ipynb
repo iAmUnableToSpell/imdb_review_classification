{
 "cells": [
  {
   "cell_type": "code",
   "execution_count": 8,
   "metadata": {},
   "outputs": [],
   "source": [
    "import tensorflow as tf\n",
    "from keras import layers, metrics\n",
    "from keras import losses\n",
    "import numpy as np\n",
    "import util\n",
    "import time\n",
    "from random import shuffle\n",
    "\n",
    "# other classifiers for comparison\n",
    "from sklearn import svm\n",
    "from nltk.sentiment import SentimentIntensityAnalyzer\n",
    "import nltk\n",
    "import sklearn.metrics\n",
    "from sklearn.naive_bayes import (\n",
    "    BernoulliNB,\n",
    "    ComplementNB,\n",
    "    MultinomialNB,\n",
    ")\n",
    "from sklearn.neighbors import KNeighborsClassifier\n",
    "from sklearn.tree import DecisionTreeClassifier\n",
    "from sklearn.ensemble import RandomForestClassifier, AdaBoostClassifier\n",
    "from sklearn.linear_model import LogisticRegression\n",
    "from sklearn.neural_network import MLPClassifier\n",
    "from sklearn.discriminant_analysis import QuadraticDiscriminantAnalysis\n",
    "\n",
    "batch_size = 32\n",
    "seed = 42\n",
    "max_features = 1000\n",
    "embedding_dim = 16\n",
    "sequence_length = 250\n",
    "epochs = 10\n"
   ]
  },
  {
   "cell_type": "code",
   "execution_count": null,
   "metadata": {},
   "outputs": [],
   "source": [
    "# Import aclImbd\n",
    "# This downloads a lot of text files, half of which are never referenced. \n",
    "# For more information, please see the function itself\n",
    "util.prepare_data_dir()"
   ]
  },
  {
   "cell_type": "code",
   "execution_count": 2,
   "metadata": {},
   "outputs": [],
   "source": [
    "# Define vectorization layer\n",
    "vectorize_layer = layers.TextVectorization(standardize=util.custom_standardization, max_tokens=max_features, output_mode='int', output_sequence_length=sequence_length)\n",
    "\n",
    "def vectorize_text(text, label):\n",
    "  text = tf.expand_dims(text, -1)\n",
    "  return vectorize_layer(text), label\n"
   ]
  },
  {
   "cell_type": "code",
   "execution_count": 9,
   "metadata": {},
   "outputs": [
    {
     "name": "stderr",
     "output_type": "stream",
     "text": [
      "[nltk_data] Downloading package vader_lexicon to\n",
      "[nltk_data]     C:\\Users\\maxyr\\AppData\\Roaming\\nltk_data...\n",
      "[nltk_data]   Package vader_lexicon is already up-to-date!\n",
      "[nltk_data] Downloading package movie_reviews to\n",
      "[nltk_data]     C:\\Users\\maxyr\\AppData\\Roaming\\nltk_data...\n",
      "[nltk_data]   Package movie_reviews is already up-to-date!\n",
      "[nltk_data] Downloading package punkt to\n",
      "[nltk_data]     C:\\Users\\maxyr\\AppData\\Roaming\\nltk_data...\n",
      "[nltk_data]   Package punkt is already up-to-date!\n",
      "[nltk_data] Downloading package stopwords to\n",
      "[nltk_data]     C:\\Users\\maxyr\\AppData\\Roaming\\nltk_data...\n",
      "[nltk_data]   Package stopwords is already up-to-date!\n",
      "[nltk_data] Downloading package names to\n",
      "[nltk_data]     C:\\Users\\maxyr\\AppData\\Roaming\\nltk_data...\n",
      "[nltk_data]   Package names is already up-to-date!\n",
      "[nltk_data] Downloading package averaged_perceptron_tagger to\n",
      "[nltk_data]     C:\\Users\\maxyr\\AppData\\Roaming\\nltk_data...\n",
      "[nltk_data]   Package averaged_perceptron_tagger is already up-to-\n",
      "[nltk_data]       date!\n"
     ]
    }
   ],
   "source": [
    "# Setup NLTK \n",
    "# NLTK dataset for comparison, using same number of features. Very slow when compared to keras' text vectorization for the same number of tokens!\n",
    "nltk.download(['vader_lexicon', 'movie_reviews','punkt', 'stopwords', 'names', 'averaged_perceptron_tagger'])\n",
    "\n",
    "top_positive, top_negative = util.prepare_nltk(max_features)\n",
    "nltk_features = [\n",
    "    (util.nltk_extract_features(nltk.corpus.movie_reviews.raw(review), top_positive), \"pos\")\n",
    "    for review in nltk.corpus.movie_reviews.fileids(categories=[\"pos\"])\n",
    "]\n",
    "nltk_features.extend([\n",
    "    (util.nltk_extract_features(nltk.corpus.movie_reviews.raw(review), top_positive), \"neg\")\n",
    "    for review in nltk.corpus.movie_reviews.fileids(categories=[\"neg\"])\n",
    "])"
   ]
  },
  {
   "cell_type": "code",
   "execution_count": 10,
   "metadata": {},
   "outputs": [
    {
     "name": "stdout",
     "output_type": "stream",
     "text": [
      "1000\n",
      "Found 25000 files belonging to 2 classes.\n",
      "Using 20000 files for training.\n",
      "Found 25000 files belonging to 2 classes.\n",
      "Using 5000 files for validation.\n",
      "Found 25000 files belonging to 2 classes.\n"
     ]
    }
   ],
   "source": [
    "# Prepare datasets and adapt vectorization layer\n",
    "raw_train_ds = tf.keras.utils.text_dataset_from_directory('aclImdb/train', batch_size=batch_size, validation_split=0.2, subset='training', seed=seed)\n",
    "raw_val_ds = tf.keras.utils.text_dataset_from_directory('aclImdb/train', batch_size=batch_size, validation_split=0.2, subset='validation', seed=seed)\n",
    "raw_test_ds = tf.keras.utils.text_dataset_from_directory('aclImdb/test', batch_size=batch_size)\n",
    "train_text = raw_train_ds.map(lambda x, y: x)\n",
    "vectorize_layer.adapt(train_text)"
   ]
  },
  {
   "cell_type": "code",
   "execution_count": 4,
   "metadata": {},
   "outputs": [],
   "source": [
    "# Cache datasets for fast retrieval to speed up training \n",
    "train_ds = raw_train_ds.map(vectorize_text)\n",
    "val_ds = raw_val_ds.map(vectorize_text)\n",
    "test_ds = raw_test_ds.map(vectorize_text)\n",
    "AUTOTUNE = tf.data.AUTOTUNE\n",
    "train_ds = train_ds.cache().prefetch(buffer_size=AUTOTUNE)\n",
    "val_ds = val_ds.cache().prefetch(buffer_size=AUTOTUNE)\n",
    "test_ds = test_ds.cache().prefetch(buffer_size=AUTOTUNE)"
   ]
  },
  {
   "cell_type": "code",
   "execution_count": 5,
   "metadata": {},
   "outputs": [],
   "source": [
    "# Embedding Architecture\n",
    "model_embedding = tf.keras.Sequential([\n",
    "  layers.Embedding(max_features, embedding_dim),\n",
    "  layers.Dropout(0.2),\n",
    "  layers.GlobalAveragePooling1D(),\n",
    "  layers.Dropout(0.2),\n",
    "  layers.Dense(1)])\n",
    "\n",
    "model_embedding.compile(loss=losses.BinaryCrossentropy(from_logits=True),\n",
    "              optimizer='adam',\n",
    "              metrics=[tf.metrics.BinaryAccuracy(threshold=0.0), metrics.AUC(from_logits=True)])"
   ]
  },
  {
   "cell_type": "code",
   "execution_count": 11,
   "metadata": {},
   "outputs": [],
   "source": [
    "# NTLK models\n",
    "classifiers = {\n",
    "    \"BernoulliNB\": BernoulliNB(),\n",
    "    \"ComplementNB\": ComplementNB(),\n",
    "    \"MultinomialNB\": MultinomialNB(),\n",
    "    \"KNeighborsClassifier\": KNeighborsClassifier(),\n",
    "    \"DecisionTreeClassifier\": DecisionTreeClassifier(),\n",
    "    \"RandomForestClassifier\": RandomForestClassifier(),\n",
    "    \"LogisticRegression\": LogisticRegression(),\n",
    "    \"MLPClassifier\": MLPClassifier(max_iter=1000),\n",
    "    \"AdaBoostClassifier\": AdaBoostClassifier(),\n",
    "}\n",
    "\n",
    "performance = {}\n",
    "\n",
    "train_count = len(nltk_features) // 2\n",
    "shuffle(nltk_features)\n",
    "for name, sklearn_classifier in classifiers.items():\n",
    "    classifier = nltk.classify.SklearnClassifier(sklearn_classifier)\n",
    "    st = time.time()\n",
    "    classifier.train(nltk_features[:train_count])\n",
    "    ed = time.time()\n",
    "    accuracy = nltk.classify.accuracy(classifier, nltk_features[train_count:])\n",
    "\n",
    "    y_true, y_score = [], []\n",
    "\n",
    "    for i, (feats, label_true) in enumerate(nltk_features[train_count:]):\n",
    "        label_predicted = classifier.classify(feats)\n",
    "        y_true.append(1 if label_true == 'pos' else 0)\n",
    "        y_score.append(1 if label_predicted == 'pos' else 0)\n",
    "\n",
    "    # Precision-Recall AUC\n",
    "    precision, recall, _ = sklearn.metrics.precision_recall_curve(y_true, y_score, pos_label=1)\n",
    "    pr_auc = sklearn.metrics.auc(recall, precision)\n",
    "    fpr, tpr, _ = sklearn.metrics.roc_curve(y_true, y_score, pos_label=1)\n",
    "    roc_auc = sklearn.metrics.auc(fpr, tpr)\n",
    "\n",
    "    roc_auc = sklearn.metrics.auc(fpr, tpr)\n",
    "    performance[name] = {}\n",
    "    performance[name]['acc'] = accuracy\n",
    "    performance[name]['time'] = ed-st\n",
    "    performance[name]['auc'] = roc_auc"
   ]
  },
  {
   "cell_type": "code",
   "execution_count": 7,
   "metadata": {},
   "outputs": [
    {
     "name": "stdout",
     "output_type": "stream",
     "text": [
      "782/782 [==============================] - 5s 6ms/step - loss: 0.3096 - binary_accuracy: 0.8742 - auc: 0.9420\n",
      "Loss:  0.30957555770874023\n",
      "Accuracy:  0.8741999864578247\n",
      "AUC:  0.9420296549797058\n"
     ]
    },
    {
     "data": {
      "image/png": "[encoded data removed]",
      "text/plain": [
       "<Figure size 640x480 with 2 Axes>"
      ]
     },
     "metadata": {},
     "output_type": "display_data"
    },
    {
     "ename": "NameError",
     "evalue": "name 'end' is not defined",
     "output_type": "error",
     "traceback": [
      "\u001b[1;31m---------------------------------------------------------------------------\u001b[0m",
      "\u001b[1;31mNameError\u001b[0m                                 Traceback (most recent call last)",
      "Cell \u001b[1;32mIn[7], line 6\u001b[0m\n\u001b[0;32m      1\u001b[0m \u001b[39m# Evaluate Embedding Model\u001b[39;00m\n\u001b[0;32m      2\u001b[0m \n\u001b[0;32m      3\u001b[0m \u001b[39m#history = model_embedding.fit(train_ds, validation_data=val_ds, epochs=epochs)\u001b[39;00m\n\u001b[0;32m      5\u001b[0m util\u001b[39m.\u001b[39mevaluate_model_keras(model_embedding, test_ds, history)\n\u001b[1;32m----> 6\u001b[0m \u001b[39mprint\u001b[39m(\u001b[39mf\u001b[39m\u001b[39m\"\u001b[39m\u001b[39mTraining Time Embedding: \u001b[39m\u001b[39m{\u001b[39;00mend\u001b[39m-\u001b[39mstart\u001b[39m}\u001b[39;00m\u001b[39m\"\u001b[39m)\n",
      "\u001b[1;31mNameError\u001b[0m: name 'end' is not defined"
     ]
    }
   ],
   "source": [
    "# Evaluate Embedding Model\n",
    "history = model_embedding.fit(train_ds, validation_data=val_ds, epochs=epochs)\n",
    "\n",
    "util.evaluate_model_keras(model_embedding, test_ds, history)\n",
    "print(f\"Training Time Embedding: {end-start}\")\n"
   ]
  },
  {
   "cell_type": "code",
   "execution_count": 12,
   "metadata": {},
   "outputs": [
    {
     "name": "stdout",
     "output_type": "stream",
     "text": [
      "Model: BernoulliNB\n",
      "   Accuracy: 0.654\n",
      "   auROC: 0.6415503987758323\n",
      "   Train Time: 0.007005453109741211\n",
      "Model: ComplementNB\n",
      "   Accuracy: 0.753\n",
      "   auROC: 0.7557252672859608\n",
      "   Train Time: 0.003006458282470703\n",
      "Model: MultinomialNB\n",
      "   Accuracy: 0.762\n",
      "   auROC: 0.7656896558630663\n",
      "   Train Time: 0.0030863285064697266\n",
      "Model: KNeighborsClassifier\n",
      "   Accuracy: 0.771\n",
      "   auROC: 0.7729140879429898\n",
      "   Train Time: 0.003000020980834961\n",
      "Model: DecisionTreeClassifier\n",
      "   Accuracy: 0.738\n",
      "   auROC: 0.7383061140286573\n",
      "   Train Time: 0.00600123405456543\n",
      "Model: RandomForestClassifier\n",
      "   Accuracy: 0.77\n",
      "   auROC: 0.7717223670980896\n",
      "   Train Time: 0.2440187931060791\n",
      "Model: LogisticRegression\n",
      "   Accuracy: 0.818\n",
      "   auROC: 0.8204767684536469\n",
      "   Train Time: 0.0070612430572509766\n",
      "Model: MLPClassifier\n",
      "   Accuracy: 0.812\n",
      "   auROC: 0.8143919820220398\n",
      "   Train Time: 1.7031054496765137\n",
      "Model: AdaBoostClassifier\n",
      "   Accuracy: 0.793\n",
      "   auROC: 0.796011440520111\n",
      "   Train Time: 0.07799911499023438\n"
     ]
    }
   ],
   "source": [
    "# Evaluate NLTK models\n",
    "for name in performance:\n",
    "    print(f'Model: {name}')\n",
    "    acc = performance[name]['acc']\n",
    "    time = performance[name]['time']\n",
    "    auc = performance[name]['auc']\n",
    "    print(f'   Accuracy: {acc}')\n",
    "    print(f'   auROC: {auc}')\n",
    "    print(f'   Train Time: {time}')"
   ]
  },
  {
   "cell_type": "code",
   "execution_count": 17,
   "metadata": {},
   "outputs": [
    {
     "name": "stdout",
     "output_type": "stream",
     "text": [
      "Accuracy:  0.50012\n"
     ]
    }
   ],
   "source": []
  }
 ],
 "metadata": {
  "kernelspec": {
   "display_name": "Python 3.10.8 64-bit",
   "language": "python",
   "name": "python3"
  },
  "language_info": {
   "codemirror_mode": {
    "name": "ipython",
    "version": 3
   },
   "file_extension": ".py",
   "mimetype": "text/x-python",
   "name": "python",
   "nbconvert_exporter": "python",
   "pygments_lexer": "ipython3",
   "version": "3.10.8"
  },
  "orig_nbformat": 4,
  "vscode": {
   "interpreter": {
    "hash": "7dece438061d77ad4af5befad1fc0f0bd0321126e9bcead865e9783a682176da"
   }
  }
 },
 "nbformat": 4,
 "nbformat_minor": 2
}
